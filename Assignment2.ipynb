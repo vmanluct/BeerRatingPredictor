{
  "nbformat": 4,
  "nbformat_minor": 0,
  "metadata": {
    "colab": {
      "name": "Assignment2.ipynb",
      "provenance": [],
      "collapsed_sections": [],
      "authorship_tag": "ABX9TyMXktrrNtP8wE7CXIm5BeJh",
      "include_colab_link": true
    },
    "kernelspec": {
      "name": "python3",
      "display_name": "Python 3"
    },
    "language_info": {
      "name": "python"
    }
  },
  "cells": [
    {
      "cell_type": "markdown",
      "metadata": {
        "id": "view-in-github",
        "colab_type": "text"
      },
      "source": [
        "<a href=\"https://colab.research.google.com/github/vmanluct/BeerRatingPredictor/blob/main/Assignment2.ipynb\" target=\"_parent\"><img src=\"https://colab.research.google.com/assets/colab-badge.svg\" alt=\"Open In Colab\"/></a>"
      ]
    },
    {
      "cell_type": "markdown",
      "metadata": {
        "id": "frWgUqS9T8Iy"
      },
      "source": [
        "Predict actual rating of beer reviews"
      ]
    },
    {
      "cell_type": "code",
      "metadata": {
        "id": "zacfEPaGOyzL",
        "colab": {
          "base_uri": "https://localhost:8080/"
        },
        "outputId": "a78715ab-e2aa-4d6d-9f9e-0c1ad5e368ce"
      },
      "source": [
        "import numpy as np\n",
        "import gzip\n",
        "import math\n",
        "import scipy.optimize\n",
        "import json\n",
        "import random\n",
        "import pandas as pd\n",
        "import dateutil.parser\n",
        "import datetime\n",
        "import time\n",
        "import string\n",
        "import nltk\n",
        "nltk.download('stopwords')\n",
        "from urllib.request import urlopen\n",
        "from collections import defaultdict\n",
        "import matplotlib.pyplot as plt\n",
        "from sklearn import linear_model\n",
        "from sklearn.metrics import mean_squared_error\n",
        "from decimal import Decimal, ROUND_DOWN, ROUND_UP\n",
        "%matplotlib inline"
      ],
      "execution_count": null,
      "outputs": [
        {
          "output_type": "stream",
          "name": "stdout",
          "text": [
            "[nltk_data] Downloading package stopwords to /root/nltk_data...\n",
            "[nltk_data]   Package stopwords is already up-to-date!\n"
          ]
        }
      ]
    },
    {
      "cell_type": "code",
      "metadata": {
        "colab": {
          "base_uri": "https://localhost:8080/"
        },
        "id": "RE44oaFbO480",
        "outputId": "a2755e75-22a4-4226-bc7e-5a81532f58e8"
      },
      "source": [
        "def parseData(fname):\n",
        "  for l in urlopen(fname):\n",
        "    yield eval(l)\n",
        "data = list(parseData(\"http://cseweb.ucsd.edu/classes/fa19/cse258-a/data/beer_50000.json\"))\n",
        "data[0]"
      ],
      "execution_count": null,
      "outputs": [
        {
          "output_type": "execute_result",
          "data": {
            "text/plain": [
              "{'beer/ABV': 5.0,\n",
              " 'beer/beerId': '47986',\n",
              " 'beer/brewerId': '10325',\n",
              " 'beer/name': 'Sausa Weizen',\n",
              " 'beer/style': 'Hefeweizen',\n",
              " 'review/appearance': 2.5,\n",
              " 'review/aroma': 2.0,\n",
              " 'review/overall': 1.5,\n",
              " 'review/palate': 1.5,\n",
              " 'review/taste': 1.5,\n",
              " 'review/text': 'A lot of foam. But a lot.\\tIn the smell some banana, and then lactic and tart. Not a good start.\\tQuite dark orange in color, with a lively carbonation (now visible, under the foam).\\tAgain tending to lactic sourness.\\tSame for the taste. With some yeast and banana.',\n",
              " 'review/timeStruct': {'hour': 20,\n",
              "  'isdst': 0,\n",
              "  'mday': 16,\n",
              "  'min': 57,\n",
              "  'mon': 2,\n",
              "  'sec': 3,\n",
              "  'wday': 0,\n",
              "  'yday': 47,\n",
              "  'year': 2009},\n",
              " 'review/timeUnix': 1234817823,\n",
              " 'user/profileName': 'stcules'}"
            ]
          },
          "metadata": {},
          "execution_count": 2
        }
      ]
    },
    {
      "cell_type": "code",
      "metadata": {
        "id": "40725sUMxS7r"
      },
      "source": [
        "beerPerUser = defaultdict(set)\n",
        "userPerBeer = defaultdict(set)\n",
        "ratingDict = {}\n",
        "\n",
        "for d in data:\n",
        "  user,beer = d['user/profileName'], d['beer/beerId']\n",
        "  beerPerUser[user].add(beer)\n",
        "  userPerBeer[beer].add(user)\n",
        "  ratingDict[(user,beer)] = d['review/overall']"
      ],
      "execution_count": null,
      "outputs": []
    },
    {
      "cell_type": "code",
      "metadata": {
        "id": "SKXdoMS__C_k"
      },
      "source": [
        "ratings = []\n",
        "for d in data:\n",
        "  ratings.append(d['review/overall'])"
      ],
      "execution_count": null,
      "outputs": []
    },
    {
      "cell_type": "code",
      "metadata": {
        "colab": {
          "base_uri": "https://localhost:8080/",
          "height": 279
        },
        "id": "NqIRIyvI_P5q",
        "outputId": "251c864b-fe06-401a-cf78-63028ab2be72"
      },
      "source": [
        "plt.hist(ratings)\n",
        "plt.xlabel('Rating')\n",
        "plt.ylabel('Number of beers with rating')\n",
        "plt.show()"
      ],
      "execution_count": null,
      "outputs": [
        {
          "output_type": "display_data",
          "data": {
            "image/png": "[encoded data removed]",
            "text/plain": [
              "<Figure size 432x288 with 1 Axes>"
            ]
          },
          "metadata": {
            "needs_background": "light"
          }
        }
      ]
    },
    {
      "cell_type": "code",
      "metadata": {
        "id": "PKHGh-fCX6Zc"
      },
      "source": [
        "abv = []\n",
        "for d in data:\n",
        "  abv.append(d['beer/ABV'])"
      ],
      "execution_count": null,
      "outputs": []
    },
    {
      "cell_type": "code",
      "metadata": {
        "colab": {
          "base_uri": "https://localhost:8080/",
          "height": 279
        },
        "id": "1XGlY3L1YBdD",
        "outputId": "245e75ec-4fcd-404c-b490-0a82c73f6506"
      },
      "source": [
        "plt.hist(abv, range=[0,18])\n",
        "plt.xlabel('ABV')\n",
        "plt.ylabel('Number of Beers with ABV')\n",
        "plt.show()"
      ],
      "execution_count": null,
      "outputs": [
        {
          "output_type": "display_data",
          "data": {
            "image/png": "[encoded data removed]",
            "text/plain": [
              "<Figure size 432x288 with 1 Axes>"
            ]
          },
          "metadata": {
            "needs_background": "light"
          }
        }
      ]
    },
    {
      "cell_type": "code",
      "metadata": {
        "colab": {
          "base_uri": "https://localhost:8080/",
          "height": 281
        },
        "id": "WrocBh_CgVvn",
        "outputId": "a05db84a-1290-490a-9661-08a59966a103"
      },
      "source": [
        "plt.scatter(ratings, abv)\n",
        "plt.xlabel('Beer Rating')\n",
        "plt.ylabel('Beer ABV')\n",
        "plt.show()"
      ],
      "execution_count": null,
      "outputs": [
        {
          "output_type": "display_data",
          "data": {
            "image/png": "[encoded data removed]",
            "text/plain": [
              "<Figure size 432x288 with 1 Axes>"
            ]
          },
          "metadata": {
            "needs_background": "light"
          }
        }
      ]
    },
    {
      "cell_type": "code",
      "metadata": {
        "id": "BieLxJELopGq"
      },
      "source": [
        "ratingsTimeHour = []\n",
        "for d in data:\n",
        "  ratingsTimeHour.append((d['review/timeStruct']['hour'], d['review/overall']))"
      ],
      "execution_count": null,
      "outputs": []
    },
    {
      "cell_type": "code",
      "metadata": {
        "id": "ZMsG_6p-vY3e"
      },
      "source": [
        "ratingsTimeHour.sort()"
      ],
      "execution_count": null,
      "outputs": []
    },
    {
      "cell_type": "code",
      "metadata": {
        "id": "08XoLkN1t1zX"
      },
      "source": [
        "avgRatingsForHour = []\n",
        "length = 0\n",
        "total = 0\n",
        "currDay = 0\n",
        "for r in ratingsTimeHour:\n",
        "  if r[0] == currDay:\n",
        "    total += r[1]\n",
        "    length += 1\n",
        "  else:\n",
        "    avgRatingsForHour.append(total/length)\n",
        "    total = 0\n",
        "    length = 0\n",
        "    total += r[1]\n",
        "    length += 1\n",
        "    currDay = r[0]"
      ],
      "execution_count": null,
      "outputs": []
    },
    {
      "cell_type": "code",
      "metadata": {
        "id": "hFnagYYpuoM_"
      },
      "source": [
        "hour = list(range(1,24))"
      ],
      "execution_count": null,
      "outputs": []
    },
    {
      "cell_type": "code",
      "metadata": {
        "colab": {
          "base_uri": "https://localhost:8080/",
          "height": 279
        },
        "id": "T3Ru5Xneo7mh",
        "outputId": "41c42be3-0ec0-4d36-f031-9220ce57828c"
      },
      "source": [
        "plt.plot(hour,avgRatingsForHour)\n",
        "plt.xlabel('Hour')\n",
        "plt.ylabel('Average Rating for Hour')\n",
        "plt.show()"
      ],
      "execution_count": null,
      "outputs": [
        {
          "output_type": "display_data",
          "data": {
            "image/png": "[encoded data removed]",
            "text/plain": [
              "<Figure size 432x288 with 1 Axes>"
            ]
          },
          "metadata": {
            "needs_background": "light"
          }
        }
      ]
    },
    {
      "cell_type": "code",
      "metadata": {
        "id": "G-bOmfNJwu0e"
      },
      "source": [
        "ratingsMon = []\n",
        "for d in data:\n",
        "  ratingsMon.append((d['review/timeStruct']['mon'], d['review/overall']))\n",
        "ratingsMon.sort()"
      ],
      "execution_count": null,
      "outputs": []
    },
    {
      "cell_type": "code",
      "metadata": {
        "id": "fpWB0JJhw9TN"
      },
      "source": [
        "avgRatingsForMon = []\n",
        "length = 0\n",
        "total = 0\n",
        "curr = 1\n",
        "for r in ratingsMon:\n",
        "  if r[0] == curr:\n",
        "    total += r[1]\n",
        "    length += 1\n",
        "  else:\n",
        "    avgRatingsForMon.append(total/length)\n",
        "    total = 0\n",
        "    length = 0\n",
        "    total += r[1]\n",
        "    length += 1\n",
        "    curr = r[0]\n",
        "avgRatingsForMon.append(total/length)"
      ],
      "execution_count": null,
      "outputs": []
    },
    {
      "cell_type": "code",
      "metadata": {
        "colab": {
          "base_uri": "https://localhost:8080/"
        },
        "id": "bHh1Vu5kzMGk",
        "outputId": "3bd21723-42e2-4457-e46b-5dd18ccc6a88"
      },
      "source": [
        "avgRatingsForMon"
      ],
      "execution_count": null,
      "outputs": [
        {
          "output_type": "execute_result",
          "data": {
            "text/plain": [
              "[3.9139599170697994,\n",
              " 3.909901517167953,\n",
              " 3.916323731138546,\n",
              " 3.9073110285006196,\n",
              " 3.90002462447673,\n",
              " 3.868933333333333,\n",
              " 3.838857284194905,\n",
              " 3.858581128541325,\n",
              " 3.862668298653611,\n",
              " 3.93701399688958,\n",
              " 3.869166289080199,\n",
              " 3.876945970695971]"
            ]
          },
          "metadata": {},
          "execution_count": 16
        }
      ]
    },
    {
      "cell_type": "code",
      "metadata": {
        "id": "iLRWzrYxxmPO"
      },
      "source": [
        "months = list(range(1,13))"
      ],
      "execution_count": null,
      "outputs": []
    },
    {
      "cell_type": "code",
      "metadata": {
        "colab": {
          "base_uri": "https://localhost:8080/",
          "height": 279
        },
        "id": "iweNyvYoxpet",
        "outputId": "22880a14-469b-472d-fd7f-c51e6820c3ca"
      },
      "source": [
        "plt.plot(months, avgRatingsForMon)\n",
        "plt.xlabel('Month')\n",
        "plt.ylabel('Average Rating for Month')\n",
        "plt.show()"
      ],
      "execution_count": null,
      "outputs": [
        {
          "output_type": "display_data",
          "data": {
            "image/png": "[encoded data removed]",
            "text/plain": [
              "<Figure size 432x288 with 1 Axes>"
            ]
          },
          "metadata": {
            "needs_background": "light"
          }
        }
      ]
    },
    {
      "cell_type": "code",
      "metadata": {
        "id": "suUN9K-DGi-g"
      },
      "source": [
        "userAverages = {}\n",
        "itemAverages = {}\n",
        "\n",
        "for u in beerPerUser:\n",
        "  rs = [ratingDict[(u,i)] for i in beerPerUser[u]]\n",
        "  userAverages[u] = sum(rs) / len(rs)\n",
        "    \n",
        "for i in userPerBeer:\n",
        "  rs = [ratingDict[(u,i)] for u in userPerBeer[i]]\n",
        "  itemAverages[i] = sum(rs) / len(rs)"
      ],
      "execution_count": null,
      "outputs": []
    },
    {
      "cell_type": "code",
      "metadata": {
        "id": "tEKV_BBnNCib"
      },
      "source": [
        "def PearsonUser(u1, u2):\n",
        "  uBar1 = userAverages[u1]\n",
        "  uBar2 = userAverages[u2]\n",
        "  inter = beerPerUser[u1].intersection(beerPerUser[u2])\n",
        "  numer = 0\n",
        "  denom1 = 0\n",
        "  denom2 = 0\n",
        "  for i in inter:\n",
        "    numer += (ratingDict[(u1, i)] - uBar1)*(ratingDict[(u2, i)] - uBar2)\n",
        "  for i in inter:\n",
        "    denom1 += (ratingDict[(u1,i)] - uBar1)**2\n",
        "    denom2 += (ratingDict[(u2,i)] - uBar2)**2\n",
        "  denom = math.sqrt(denom1)*math.sqrt(denom2)\n",
        "  if denom == 0: return 0\n",
        "  return numer/denom"
      ],
      "execution_count": null,
      "outputs": []
    },
    {
      "cell_type": "code",
      "metadata": {
        "id": "AK2fz5-J__GI"
      },
      "source": [
        "def PearsonBeer(i1, i2):\n",
        "  iBar1 = itemAverages[i1]\n",
        "  iBar2 = itemAverages[i2]\n",
        "  inter = userPerBeer[i1].intersection(userPerBeer[i2])\n",
        "  numer = 0\n",
        "  denom1 = 0\n",
        "  denom2 = 0\n",
        "  for i in inter:\n",
        "    numer += (ratingDict[(i,i1)] - iBar1)*(ratingDict[(i,i2)] - iBar2)\n",
        "  for i in inter:\n",
        "    denom1 += (ratingDict[(i,i1)] - iBar1)**2\n",
        "    denom2 += (ratingDict[(i,i2)] - iBar2)**2\n",
        "  denom = math.sqrt(denom1)*math.sqrt(denom2)\n",
        "  if denom == 0: return 1\n",
        "  return numer/denom"
      ],
      "execution_count": null,
      "outputs": []
    },
    {
      "cell_type": "code",
      "metadata": {
        "id": "QtIHP079S4GO"
      },
      "source": [
        "for d in data:\n",
        "  if d['user/profileName'] == '47986':\n",
        "    print('Here')"
      ],
      "execution_count": null,
      "outputs": []
    },
    {
      "cell_type": "code",
      "metadata": {
        "id": "Nh3bIDOHuNsC"
      },
      "source": [
        "ratingAverage = 0\n",
        "for d in data[:40000]:\n",
        "  ratingAverage += d['review/overall']\n",
        "ratingAverage /= len(data[:40000])"
      ],
      "execution_count": null,
      "outputs": []
    },
    {
      "cell_type": "code",
      "metadata": {
        "id": "YEtbzcesuo1p"
      },
      "source": [
        "avgPredict = [ratingAverage]*len(data[40000:])\n",
        "yAvgTest = [d['review/overall'] for d in data[40000:]]"
      ],
      "execution_count": null,
      "outputs": []
    },
    {
      "cell_type": "code",
      "metadata": {
        "colab": {
          "base_uri": "https://localhost:8080/"
        },
        "id": "VqTwl1qxu7T4",
        "outputId": "d596021b-8a5c-4c57-ad47-b86379a97f24"
      },
      "source": [
        "avgMSE = np.square(np.subtract(yAvgTest, avgPredict)).mean()\n",
        "avgMSE "
      ],
      "execution_count": null,
      "outputs": [
        {
          "output_type": "execute_result",
          "data": {
            "text/plain": [
              "0.47763178000000006"
            ]
          },
          "metadata": {},
          "execution_count": 25
        }
      ]
    },
    {
      "cell_type": "code",
      "metadata": {
        "id": "ovpPEBx7qipr"
      },
      "source": [
        "def hourFeature(datum):\n",
        "  feat = [1]\n",
        "  feat.append(datum['review/timeStruct']['hour'])\n",
        "  return feat"
      ],
      "execution_count": null,
      "outputs": []
    },
    {
      "cell_type": "code",
      "metadata": {
        "id": "UpPrFfWArjUD"
      },
      "source": [
        "XhourTrain = [hourFeature(d) for d in data[:40000]]\n",
        "yHourTrain = [d['review/overall'] for d in data[:40000]]\n",
        "XhourTest = [hourFeature(d) for d in data[40000:]]\n",
        "yHourTest = [d['review/overall'] for d in data[40000:]]"
      ],
      "execution_count": null,
      "outputs": []
    },
    {
      "cell_type": "code",
      "metadata": {
        "colab": {
          "base_uri": "https://localhost:8080/"
        },
        "id": "Xuzk91JtsFbb",
        "outputId": "a593fb31-258e-46a6-ff44-c5e6535d4d30"
      },
      "source": [
        "hourMod = linear_model.LinearRegression()\n",
        "hourMod.fit(XhourTrain,yHourTrain)"
      ],
      "execution_count": null,
      "outputs": [
        {
          "output_type": "execute_result",
          "data": {
            "text/plain": [
              "LinearRegression()"
            ]
          },
          "metadata": {},
          "execution_count": 28
        }
      ]
    },
    {
      "cell_type": "code",
      "metadata": {
        "id": "P_9QipxzsYKi"
      },
      "source": [
        "hourPred = hourMod.predict(XhourTest)"
      ],
      "execution_count": null,
      "outputs": []
    },
    {
      "cell_type": "code",
      "metadata": {
        "colab": {
          "base_uri": "https://localhost:8080/"
        },
        "id": "tQYVEB7csttp",
        "outputId": "7e29dd42-847f-42a0-e74f-29de74995294"
      },
      "source": [
        "hourMSE = np.square(np.subtract(yHourTest, hourPred)).mean()\n",
        "hourMSE"
      ],
      "execution_count": null,
      "outputs": [
        {
          "output_type": "execute_result",
          "data": {
            "text/plain": [
              "0.47766624419438686"
            ]
          },
          "metadata": {},
          "execution_count": 30
        }
      ]
    },
    {
      "cell_type": "code",
      "metadata": {
        "id": "2qU0-ypS6Y7j"
      },
      "source": [
        "def oneHotHourFeat(datum):\n",
        "  feat = [0]*24\n",
        "  feat.append(1)\n",
        "  feat[datum['review/timeStruct']['hour']] = 1\n",
        "  return feat"
      ],
      "execution_count": null,
      "outputs": []
    },
    {
      "cell_type": "code",
      "metadata": {
        "id": "5eQ4rJ3m6sNT"
      },
      "source": [
        "XhourTrain = [oneHotHourFeat(d) for d in data[:40000]]\n",
        "yHourTrain = [d['review/overall'] for d in data[:40000]]\n",
        "XhourTest = [oneHotHourFeat(d) for d in data[40000:]]\n",
        "yHourTest = [d['review/overall'] for d in data[40000:]]"
      ],
      "execution_count": null,
      "outputs": []
    },
    {
      "cell_type": "code",
      "metadata": {
        "colab": {
          "base_uri": "https://localhost:8080/"
        },
        "id": "qRKZRBcc65bA",
        "outputId": "51747792-86e2-4d83-964f-fb11447da1cd"
      },
      "source": [
        "hourMod = linear_model.LinearRegression()\n",
        "hourMod.fit(XhourTrain,yHourTrain)"
      ],
      "execution_count": null,
      "outputs": [
        {
          "output_type": "execute_result",
          "data": {
            "text/plain": [
              "LinearRegression()"
            ]
          },
          "metadata": {},
          "execution_count": 33
        }
      ]
    },
    {
      "cell_type": "code",
      "metadata": {
        "id": "oehpwx8l69uj"
      },
      "source": [
        "hourPred = hourMod.predict(XhourTest)"
      ],
      "execution_count": null,
      "outputs": []
    },
    {
      "cell_type": "code",
      "metadata": {
        "colab": {
          "base_uri": "https://localhost:8080/"
        },
        "id": "NA8kJSIA6-fy",
        "outputId": "cd262032-2f12-4009-fb8a-c4a42a24fd98"
      },
      "source": [
        "hourMSE = np.square(np.subtract(yHourTest, hourPred)).mean()\n",
        "hourMSE"
      ],
      "execution_count": null,
      "outputs": [
        {
          "output_type": "execute_result",
          "data": {
            "text/plain": [
              "0.47885790643692017"
            ]
          },
          "metadata": {},
          "execution_count": 35
        }
      ]
    },
    {
      "cell_type": "code",
      "metadata": {
        "id": "VwxBzhD7tChh"
      },
      "source": [
        "def monthFeature(datum):\n",
        "  feat = [1]\n",
        "  feat.append(datum['review/timeStruct']['mon'])\n",
        "  return feat"
      ],
      "execution_count": null,
      "outputs": []
    },
    {
      "cell_type": "code",
      "metadata": {
        "id": "BJ8wzMtStNRh"
      },
      "source": [
        "XmonthTrain = [monthFeature(d) for d in data[:40000]]\n",
        "yMonthTrain = [d['review/overall'] for d in data[:40000]]\n",
        "XmonthTest = [monthFeature(d) for d in data[40000:]]\n",
        "yMonthTest = [d['review/overall'] for d in data[40000:]]"
      ],
      "execution_count": null,
      "outputs": []
    },
    {
      "cell_type": "code",
      "metadata": {
        "colab": {
          "base_uri": "https://localhost:8080/"
        },
        "id": "2qvWpB8dtjHy",
        "outputId": "63de8140-a211-43e1-f482-5cd3978ac8ac"
      },
      "source": [
        "monMod = linear_model.LinearRegression()\n",
        "monMod.fit(XmonthTrain, yMonthTrain)"
      ],
      "execution_count": null,
      "outputs": [
        {
          "output_type": "execute_result",
          "data": {
            "text/plain": [
              "LinearRegression()"
            ]
          },
          "metadata": {},
          "execution_count": 38
        }
      ]
    },
    {
      "cell_type": "code",
      "metadata": {
        "id": "YNaEAAsctse5"
      },
      "source": [
        "monPred = monMod.predict(XmonthTest)"
      ],
      "execution_count": null,
      "outputs": []
    },
    {
      "cell_type": "code",
      "metadata": {
        "colab": {
          "base_uri": "https://localhost:8080/"
        },
        "id": "I3aHWfDKtyqR",
        "outputId": "2acc6479-57e7-44cf-9457-1a08448b50df"
      },
      "source": [
        "monMSE = np.square(np.subtract(yMonthTest, monPred)).mean()\n",
        "monMSE"
      ],
      "execution_count": null,
      "outputs": [
        {
          "output_type": "execute_result",
          "data": {
            "text/plain": [
              "0.47756261241443754"
            ]
          },
          "metadata": {},
          "execution_count": 40
        }
      ]
    },
    {
      "cell_type": "code",
      "metadata": {
        "id": "5eya6n5f7eBz"
      },
      "source": [
        "def oneHotMonthFeat(datum):\n",
        "  feat = [0]*12\n",
        "  feat.append(1)\n",
        "  feat[datum['review/timeStruct']['mon']-1] = 1\n",
        "  return feat"
      ],
      "execution_count": null,
      "outputs": []
    },
    {
      "cell_type": "code",
      "metadata": {
        "id": "cCk-HJb47r_b"
      },
      "source": [
        "XmonthTrain = [oneHotMonthFeat(d) for d in data[:40000]]\n",
        "yMonthTrain = [d['review/overall'] for d in data[:40000]]\n",
        "XmonthTest = [oneHotMonthFeat(d) for d in data[40000:]]\n",
        "yMonthTest = [d['review/overall'] for d in data[40000:]]"
      ],
      "execution_count": null,
      "outputs": []
    },
    {
      "cell_type": "code",
      "metadata": {
        "colab": {
          "base_uri": "https://localhost:8080/"
        },
        "id": "x57DUXyy7zcq",
        "outputId": "68c67ac3-bffc-4a40-de0d-eac1f664d258"
      },
      "source": [
        "monMod = linear_model.LinearRegression()\n",
        "monMod.fit(XmonthTrain, yMonthTrain)"
      ],
      "execution_count": null,
      "outputs": [
        {
          "output_type": "execute_result",
          "data": {
            "text/plain": [
              "LinearRegression()"
            ]
          },
          "metadata": {},
          "execution_count": 43
        }
      ]
    },
    {
      "cell_type": "code",
      "metadata": {
        "id": "Jtq1wTOI71mi"
      },
      "source": [
        "monPred = monMod.predict(XmonthTest)"
      ],
      "execution_count": null,
      "outputs": []
    },
    {
      "cell_type": "code",
      "metadata": {
        "colab": {
          "base_uri": "https://localhost:8080/"
        },
        "id": "vhYw6PYj73zU",
        "outputId": "efab10b1-f09f-4085-c0c2-d70895133ccf"
      },
      "source": [
        "monMSE = np.square(np.subtract(yMonthTest, monPred)).mean()\n",
        "monMSE"
      ],
      "execution_count": null,
      "outputs": [
        {
          "output_type": "execute_result",
          "data": {
            "text/plain": [
              "0.47877718801498415"
            ]
          },
          "metadata": {},
          "execution_count": 45
        }
      ]
    },
    {
      "cell_type": "code",
      "metadata": {
        "id": "_WRPENdt8tEy"
      },
      "source": [
        "def monthHourFeat(datum):\n",
        "  feat = [1]\n",
        "  feat.append(datum['review/timeStruct']['hour'])\n",
        "  feat.append(datum['review/timeStruct']['mon'])\n",
        "  return feat"
      ],
      "execution_count": null,
      "outputs": []
    },
    {
      "cell_type": "code",
      "metadata": {
        "id": "SRYlDKqt9CyS"
      },
      "source": [
        "XbothTrain = [monthHourFeat(d) for d in data[:40000]]\n",
        "XbothTest = [monthHourFeat(d) for d in data[40000:]]\n",
        "yBothTrain = [d['review/overall'] for d in data[:40000]]\n",
        "yBothTest = [d['review/overall'] for d in data[40000:]]"
      ],
      "execution_count": null,
      "outputs": []
    },
    {
      "cell_type": "code",
      "metadata": {
        "colab": {
          "base_uri": "https://localhost:8080/"
        },
        "id": "28YQ2jWu9UxR",
        "outputId": "4fce6bc1-3e57-492f-d571-6d37444b51bc"
      },
      "source": [
        "bothMod = linear_model.LinearRegression()\n",
        "bothMod.fit(XbothTrain,yBothTrain)"
      ],
      "execution_count": null,
      "outputs": [
        {
          "output_type": "execute_result",
          "data": {
            "text/plain": [
              "LinearRegression()"
            ]
          },
          "metadata": {},
          "execution_count": 48
        }
      ]
    },
    {
      "cell_type": "code",
      "metadata": {
        "id": "YVbPYAdr9bGh"
      },
      "source": [
        "bothPred = bothMod.predict(XbothTest)"
      ],
      "execution_count": null,
      "outputs": []
    },
    {
      "cell_type": "code",
      "metadata": {
        "colab": {
          "base_uri": "https://localhost:8080/"
        },
        "id": "i4TOaXxu9gdJ",
        "outputId": "4f1d852f-b8ad-4a83-d1d5-7657baab914e"
      },
      "source": [
        "bothMSE = np.square(np.subtract(yBothTest,bothPred)).mean()\n",
        "bothMSE"
      ],
      "execution_count": null,
      "outputs": [
        {
          "output_type": "execute_result",
          "data": {
            "text/plain": [
              "0.4775973594442433"
            ]
          },
          "metadata": {},
          "execution_count": 50
        }
      ]
    },
    {
      "cell_type": "code",
      "metadata": {
        "id": "BSceC38O94k5"
      },
      "source": [
        "wordCount = defaultdict(int)\n",
        "punctuation = set(string.punctuation)\n",
        "for d in data:\n",
        "  r = ''.join([c for c in d['review/text'].lower() if not c in punctuation])\n",
        "  for w in r.split():\n",
        "    wordCount[w] += 1"
      ],
      "execution_count": null,
      "outputs": []
    },
    {
      "cell_type": "code",
      "metadata": {
        "id": "0VYkO2dh-V5i"
      },
      "source": [
        "sortWords = sorted(wordCount.items(), key=lambda x:x[1], reverse=True)"
      ],
      "execution_count": null,
      "outputs": []
    },
    {
      "cell_type": "code",
      "metadata": {
        "id": "Ga9AYB-s-ghB"
      },
      "source": [
        "counts = [(wordCount[w], w) for w in wordCount]\n",
        "counts.sort()\n",
        "counts.reverse()\n",
        "words = [x[1] for x in counts[:1000]]"
      ],
      "execution_count": null,
      "outputs": []
    },
    {
      "cell_type": "code",
      "metadata": {
        "id": "T_E-rbiu-tRp"
      },
      "source": [
        "wordId = dict(zip(words, range(len(words))))\n",
        "wordSet = set(words)"
      ],
      "execution_count": null,
      "outputs": []
    },
    {
      "cell_type": "code",
      "metadata": {
        "id": "b-wYd9CV-v9A"
      },
      "source": [
        "def BOWFeature(datum):\n",
        "    feat = [0]*len(words)\n",
        "    r = ''.join([c for c in datum['review/text'].lower() if not c in punctuation])\n",
        "    for w in r.split():\n",
        "        if w in words:\n",
        "            feat[wordId[w]] += 1\n",
        "    feat.append(1) # offset\n",
        "    return feat"
      ],
      "execution_count": null,
      "outputs": []
    },
    {
      "cell_type": "code",
      "metadata": {
        "id": "M2A4WMA9-7Do"
      },
      "source": [
        "XBOWTrain = [BOWFeature(d) for d in data[:40000]]\n",
        "XBOWTest = [BOWFeature(d) for d in data[40000:]]\n",
        "yBOWTrain = [d['review/overall'] for d in data[:40000]]\n",
        "yBOWTest = [d['review/overall'] for d in data[40000:]]"
      ],
      "execution_count": null,
      "outputs": []
    },
    {
      "cell_type": "code",
      "metadata": {
        "colab": {
          "base_uri": "https://localhost:8080/"
        },
        "id": "PWyA3nqw_UTh",
        "outputId": "f3325cf7-a3ce-4125-f668-073a298b9e15"
      },
      "source": [
        "BOWMod = linear_model.LinearRegression()\n",
        "BOWMod.fit(XBOWTrain, yBOWTrain)"
      ],
      "execution_count": null,
      "outputs": [
        {
          "output_type": "execute_result",
          "data": {
            "text/plain": [
              "LinearRegression()"
            ]
          },
          "metadata": {},
          "execution_count": 57
        }
      ]
    },
    {
      "cell_type": "code",
      "metadata": {
        "id": "bGOvRIju_eY4"
      },
      "source": [
        "BOWPred = BOWMod.predict(XBOWTest)"
      ],
      "execution_count": null,
      "outputs": []
    },
    {
      "cell_type": "code",
      "metadata": {
        "colab": {
          "base_uri": "https://localhost:8080/"
        },
        "id": "ZZNCPmRB_kFR",
        "outputId": "e47d55f4-70c2-4a9c-81fc-e64855515a6a"
      },
      "source": [
        "BOWMSE = np.square(np.subtract(yBOWTest,BOWPred)).mean()\n",
        "BOWMSE"
      ],
      "execution_count": null,
      "outputs": [
        {
          "output_type": "execute_result",
          "data": {
            "text/plain": [
              "0.35394079867295425"
            ]
          },
          "metadata": {},
          "execution_count": 59
        }
      ]
    },
    {
      "cell_type": "code",
      "metadata": {
        "id": "5P_0zpO4XhCM"
      },
      "source": [
        "def CosineByBeer(i1,i2):\n",
        "  inter = userPerBeer[i1].intersection(userPerBeer[i2])\n",
        "  numer = 0\n",
        "  denom1 = 0\n",
        "  denom2 = 0\n",
        "  for u in inter:\n",
        "    numer += ratingDict[u,i1]*ratingDict[u,i2]\n",
        "  for u in userPerBeer[i1]:\n",
        "    denom1 += ratingDict[u,i1]**2\n",
        "  for u in userPerBeer[i2]:\n",
        "    denom2 += ratingDict[u,i2]**2\n",
        "  denom = math.sqrt(denom1)*math.sqrt(denom2)\n",
        "  if denom == 0: return 0\n",
        "  return numer/denom"
      ],
      "execution_count": null,
      "outputs": []
    },
    {
      "cell_type": "code",
      "metadata": {
        "id": "dWEZLCe8dC85"
      },
      "source": [
        "def CosineByUser(u1,u2):\n",
        "  inter = beerPerUser[u1].intersection(beerPerUser[u2])\n",
        "  numer = 0\n",
        "  denom1 = 0\n",
        "  denom2 = 0\n",
        "  for i in inter:\n",
        "    numer += ratingDict[u1,i]*ratingDict[u2,i]\n",
        "  for i in beerPerUser[u1]:\n",
        "    denom1 += ratingDict[u1,i]**2\n",
        "  for i in beerPerUser[u2]:\n",
        "    denom2 += ratingDict[u2,i]**2\n",
        "  denom = math.sqrt(denom1)*math.sqrt(denom2)\n",
        "  if denom == 0: return 0\n",
        "  return numer/denom"
      ],
      "execution_count": null,
      "outputs": []
    },
    {
      "cell_type": "code",
      "metadata": {
        "id": "PTHKE1wcdoeg"
      },
      "source": [
        "def predictRatingUserSim(user, item):\n",
        "  rate = []\n",
        "  sims = []\n",
        "  for d in userPerBeer[item]:\n",
        "    i2 = d\n",
        "    if i2 == item: continue\n",
        "    rate.append(ratingDict[(i2,item)] - userAverages[i2])\n",
        "    sims.append(CosineByUser(user,i2))\n",
        "  if sum(sims) > 0:\n",
        "    weightedRatings = [(x*y) for x,y in zip(rate,sims)]\n",
        "    return userAverages[user] + sum(weightedRatings) / sum(sims)\n",
        "  else: \n",
        "    return ratingAverage"
      ],
      "execution_count": null,
      "outputs": []
    },
    {
      "cell_type": "code",
      "metadata": {
        "id": "MWGO7BMfCapo"
      },
      "source": [
        "def predictRatingBeerSim(user, item):\n",
        "  rate = []\n",
        "  sims = []\n",
        "  for d in beerPerUser[user]:\n",
        "    i2 = d\n",
        "    if i2 == item: continue\n",
        "    rate.append(ratingDict[(user,i2)] - itemAverages[i2])\n",
        "    sims.append(CosineByBeer(item,i2))\n",
        "  if sum(sims) > 0:\n",
        "    weightedRatings = [(x*y) for x,y in zip(rate,sims)]\n",
        "    return itemAverages[item] + sum(weightedRatings) / sum(sims)\n",
        "  else: \n",
        "    return ratingAverage"
      ],
      "execution_count": null,
      "outputs": []
    },
    {
      "cell_type": "code",
      "metadata": {
        "id": "pJvzjuqRMX7B"
      },
      "source": [
        "CosineBeerPreds = [predictRatingBeerSim(d['user/profileName'], d['beer/beerId']) for d in data[40000:]]"
      ],
      "execution_count": null,
      "outputs": []
    },
    {
      "cell_type": "code",
      "metadata": {
        "id": "qbOKvpsnM0CZ"
      },
      "source": [
        "yTest = [d['review/overall'] for d in data[40000:]]"
      ],
      "execution_count": null,
      "outputs": []
    },
    {
      "cell_type": "code",
      "metadata": {
        "colab": {
          "base_uri": "https://localhost:8080/"
        },
        "id": "6AVxaroKNqgR",
        "outputId": "f7e18249-0455-4862-bcee-f2d0e158f623"
      },
      "source": [
        "pMSE = np.square(np.subtract(yTest, CosineBeerPreds)).mean()\n",
        "pMSE"
      ],
      "execution_count": null,
      "outputs": [
        {
          "output_type": "execute_result",
          "data": {
            "text/plain": [
              "0.4170239163638366"
            ]
          },
          "metadata": {},
          "execution_count": 66
        }
      ]
    },
    {
      "cell_type": "code",
      "metadata": {
        "id": "ZXzu_95yeQro"
      },
      "source": [
        "CosineUserPreds = [predictRatingUserSim(d['user/profileName'], d['beer/beerId']) for d in data[40000:]]"
      ],
      "execution_count": null,
      "outputs": []
    },
    {
      "cell_type": "code",
      "metadata": {
        "colab": {
          "base_uri": "https://localhost:8080/"
        },
        "id": "9t4abCfdea0w",
        "outputId": "217823c4-a197-4c83-95b5-947fb6941ad5"
      },
      "source": [
        "cMSE = np.square(np.subtract(yTest,CosineUserPreds)).mean()\n",
        "cMSE"
      ],
      "execution_count": null,
      "outputs": [
        {
          "output_type": "execute_result",
          "data": {
            "text/plain": [
              "0.25378488632690543"
            ]
          },
          "metadata": {},
          "execution_count": 68
        }
      ]
    },
    {
      "cell_type": "code",
      "metadata": {
        "colab": {
          "base_uri": "https://localhost:8080/",
          "height": 282
        },
        "id": "OaT4YsvRkQ-9",
        "outputId": "82a809c7-b435-4b27-9579-9a77decdaea8"
      },
      "source": [
        "baselineNames = [1,2,3,4]\n",
        "baselineMSE = [avgMSE, hourMSE, monMSE, BOWMSE]\n",
        "plt.bar(baselineNames, baselineMSE)\n",
        "plt.xlabel('Baseline Models')\n",
        "plt.ylabel('MSE of Model')\n",
        "plt.show()"
      ],
      "execution_count": null,
      "outputs": [
        {
          "output_type": "display_data",
          "data": {
            "image/png": "[encoded data removed]",
            "text/plain": [
              "<Figure size 432x288 with 1 Axes>"
            ]
          },
          "metadata": {
            "needs_background": "light"
          }
        }
      ]
    },
    {
      "cell_type": "code",
      "metadata": {
        "colab": {
          "base_uri": "https://localhost:8080/"
        },
        "id": "epGZV_dr3iLr",
        "outputId": "28e9d330-90fd-444d-9ec6-8692fc80d3f0"
      },
      "source": [
        "baselineMSE"
      ],
      "execution_count": null,
      "outputs": [
        {
          "output_type": "execute_result",
          "data": {
            "text/plain": [
              "[0.47763178000000006,\n",
              " 0.47885790643692017,\n",
              " 0.47877718801498415,\n",
              " 0.35394079867295425]"
            ]
          },
          "metadata": {},
          "execution_count": 70
        }
      ]
    },
    {
      "cell_type": "code",
      "metadata": {
        "colab": {
          "base_uri": "https://localhost:8080/"
        },
        "id": "45nGWrKAdfr_",
        "outputId": "1f169213-c6db-4064-8755-fa92a74c88b3"
      },
      "source": [
        "ratingAverage"
      ],
      "execution_count": null,
      "outputs": [
        {
          "output_type": "execute_result",
          "data": {
            "text/plain": [
              "3.9021"
            ]
          },
          "metadata": {},
          "execution_count": 71
        }
      ]
    },
    {
      "cell_type": "code",
      "metadata": {
        "id": "4P0lCjjsMCak"
      },
      "source": [
        "from nltk.corpus import stopwords"
      ],
      "execution_count": null,
      "outputs": []
    },
    {
      "cell_type": "code",
      "metadata": {
        "id": "GE2Xm_gKAMHI"
      },
      "source": [
        "stopwords = stopwords.words('english')"
      ],
      "execution_count": null,
      "outputs": []
    },
    {
      "cell_type": "code",
      "metadata": {
        "id": "6ZmXGeSigVDl"
      },
      "source": [
        "posWordCount = defaultdict(int)\n",
        "negWordCount = defaultdict(int)\n",
        "punctuation = set(string.punctuation)\n",
        "for d in data:\n",
        "  r = ''.join([c for c in d['review/text'].lower() if not c in punctuation])\n",
        "  for w in r.split():\n",
        "    if d['review/overall'] > ratingAverage and not w in stopwords:\n",
        "      posWordCount[w] += 1\n",
        "    elif not w in stopwords:\n",
        "      negWordCount[w] += 1"
      ],
      "execution_count": null,
      "outputs": []
    },
    {
      "cell_type": "code",
      "metadata": {
        "id": "tHmGh4aMCdhe"
      },
      "source": [
        "posBiGramCount = defaultdict(int)\n",
        "negBiGramCount = defaultdict(int)\n",
        "for d in data:\n",
        "  r = ''.join([c for c in d['review/text'].lower() if not c in punctuation])\n",
        "  ws = r.split()\n",
        "  for w in ws:\n",
        "    if w in stopwords:\n",
        "      ws.remove(w)\n",
        "  ws2 = [' '.join(x) for x in list(zip(ws[:-1],ws[1:]))]\n",
        "  for w in ws + ws2:\n",
        "    if d['review/overall'] > ratingAverage:\n",
        "      posBiGramCount[w] += 1\n",
        "    else:\n",
        "      negBiGramCount[w] += 1"
      ],
      "execution_count": null,
      "outputs": []
    },
    {
      "cell_type": "code",
      "metadata": {
        "id": "vJYMhGvPFtl8"
      },
      "source": [
        "posBiCounts = [(posBiGramCount[w],w) for w in posBiGramCount]\n",
        "negBiCounts = [(negBiGramCount[w],w) for w in negBiGramCount]\n",
        "posBiCounts.sort()\n",
        "negBiCounts.sort()\n",
        "posBiCounts.reverse()\n",
        "negBiCounts.reverse()"
      ],
      "execution_count": null,
      "outputs": []
    },
    {
      "cell_type": "code",
      "metadata": {
        "id": "UxaYm1FzGOYE"
      },
      "source": [
        "posBiWords = [x[1] for x in posBiCounts[:1000]]\n",
        "negBiWords = [x[1] for x in negBiCounts[:1000]]"
      ],
      "execution_count": null,
      "outputs": []
    },
    {
      "cell_type": "code",
      "metadata": {
        "id": "DmaBSpq_gtyM"
      },
      "source": [
        "posSortWords = sorted(posWordCount.items(), key=lambda x:x[1], reverse=True)\n",
        "negSortWords = sorted(negWordCount.items(), key=lambda x:x[1], reverse=True)"
      ],
      "execution_count": null,
      "outputs": []
    },
    {
      "cell_type": "code",
      "metadata": {
        "id": "nojEFWTAg0M0"
      },
      "source": [
        "posCounts = [(posWordCount[w], w) for w in posWordCount]\n",
        "posCounts.sort()\n",
        "posCounts.reverse()\n",
        "posWords = [x[1] for x in posCounts[:1000]]\n",
        "negCounts = [(negWordCount[w], w) for w in negWordCount]\n",
        "negCounts.sort()\n",
        "negCounts.reverse()\n",
        "negWords = [x[1] for x in negCounts[:1000]]"
      ],
      "execution_count": null,
      "outputs": []
    },
    {
      "cell_type": "code",
      "metadata": {
        "colab": {
          "base_uri": "https://localhost:8080/"
        },
        "id": "S4xMi37jl8tC",
        "outputId": "3e81a3e7-82de-4fac-8a8a-02b4c932b338"
      },
      "source": [
        "data[0]"
      ],
      "execution_count": null,
      "outputs": [
        {
          "output_type": "execute_result",
          "data": {
            "text/plain": [
              "{'beer/ABV': 5.0,\n",
              " 'beer/beerId': '47986',\n",
              " 'beer/brewerId': '10325',\n",
              " 'beer/name': 'Sausa Weizen',\n",
              " 'beer/style': 'Hefeweizen',\n",
              " 'review/appearance': 2.5,\n",
              " 'review/aroma': 2.0,\n",
              " 'review/overall': 1.5,\n",
              " 'review/palate': 1.5,\n",
              " 'review/taste': 1.5,\n",
              " 'review/text': 'A lot of foam. But a lot.\\tIn the smell some banana, and then lactic and tart. Not a good start.\\tQuite dark orange in color, with a lively carbonation (now visible, under the foam).\\tAgain tending to lactic sourness.\\tSame for the taste. With some yeast and banana.',\n",
              " 'review/timeStruct': {'hour': 20,\n",
              "  'isdst': 0,\n",
              "  'mday': 16,\n",
              "  'min': 57,\n",
              "  'mon': 2,\n",
              "  'sec': 3,\n",
              "  'wday': 0,\n",
              "  'yday': 47,\n",
              "  'year': 2009},\n",
              " 'review/timeUnix': 1234817823,\n",
              " 'user/profileName': 'stcules'}"
            ]
          },
          "metadata": {},
          "execution_count": 80
        }
      ]
    },
    {
      "cell_type": "code",
      "metadata": {
        "id": "tdQswXn90ZMK"
      },
      "source": [
        "monthAvgDiff = []\n",
        "for a in avgRatingsForMon:\n",
        "  monthAvgDiff.append(a-ratingAverage)"
      ],
      "execution_count": null,
      "outputs": []
    },
    {
      "cell_type": "code",
      "metadata": {
        "colab": {
          "base_uri": "https://localhost:8080/"
        },
        "id": "rFc_Z6nbrM-w",
        "outputId": "890716dd-fe48-4909-ea70-25b78a2bf525"
      },
      "source": [
        "monthAvgDiff"
      ],
      "execution_count": null,
      "outputs": [
        {
          "output_type": "execute_result",
          "data": {
            "text/plain": [
              "[0.011859917069799497,\n",
              " 0.007801517167953076,\n",
              " 0.014223731138546025,\n",
              " 0.005211028500619719,\n",
              " -0.0020753755232698623,\n",
              " -0.03316666666666679,\n",
              " -0.063242715805095,\n",
              " -0.043518871458674724,\n",
              " -0.03943170134638896,\n",
              " 0.03491399688958019,\n",
              " -0.032933710919800685,\n",
              " -0.025154029304029102]"
            ]
          },
          "metadata": {},
          "execution_count": 82
        }
      ]
    },
    {
      "cell_type": "code",
      "metadata": {
        "id": "Z3WkiZo5kwVS"
      },
      "source": [
        "def howPositiveIsRating(datum):\n",
        "  positive = 0\n",
        "  negative = 0\n",
        "  r = ''.join([c for c in datum['review/text'].lower() if not c in punctuation])\n",
        "  for w in r.split():\n",
        "    if w in posBiWords and not w in negBiWords:\n",
        "      positive += 1\n",
        "    elif w in negBiWords and not w in posBiWords:\n",
        "      negative += 1\n",
        "  return (positive-negative)/len(d['review/text'])"
      ],
      "execution_count": null,
      "outputs": []
    },
    {
      "cell_type": "code",
      "metadata": {
        "id": "IUH78ilh32dP"
      },
      "source": [
        "def predictor(datum):\n",
        "  rate = []\n",
        "  sims = []\n",
        "  month = datum['review/timeStruct']['mon']\n",
        "  user = datum['user/profileName']\n",
        "  item = datum['beer/beerId']\n",
        "  monAvg = monthAvgDiff[month-1]**2\n",
        "  pos = howPositiveIsRating(datum)*20\n",
        "  for d in userPerBeer[item]:\n",
        "    i2 = d\n",
        "    if i2 == item: continue\n",
        "    rate.append(ratingDict[(i2,item)] - userAverages[i2])\n",
        "    sims.append(CosineByUser(user,i2))\n",
        "  if sum(sims) > 0:\n",
        "    weightedRatings = [(x*y) for x,y in zip(rate,sims)]\n",
        "    return (userAverages[user] + sum(weightedRatings) / sum(sims)) + pos + monAvg\n",
        "  else: \n",
        "    return monthAvgDiff[month-1] + pos"
      ],
      "execution_count": null,
      "outputs": []
    },
    {
      "cell_type": "code",
      "metadata": {
        "id": "M9jRTYkoC2Sy"
      },
      "source": [
        "mainPreds = [predictor(d) for d in data[40000:]]\n",
        "yMain = [d['review/overall'] for d in data[40000:]]"
      ],
      "execution_count": null,
      "outputs": []
    },
    {
      "cell_type": "code",
      "metadata": {
        "colab": {
          "base_uri": "https://localhost:8080/"
        },
        "id": "xnDi_L_PDwiq",
        "outputId": "6723f1a6-a148-4bce-b3fa-bdfeb73bf2ca"
      },
      "source": [
        "mainMSE = np.square(np.subtract(yMain,mainPreds)).mean()\n",
        "mainMSE"
      ],
      "execution_count": null,
      "outputs": [
        {
          "output_type": "execute_result",
          "data": {
            "text/plain": [
              "0.24433008035688553"
            ]
          },
          "metadata": {},
          "execution_count": 86
        }
      ]
    },
    {
      "cell_type": "markdown",
      "metadata": {
        "id": "HRBdMsF881FI"
      },
      "source": [
        "0.2443"
      ]
    },
    {
      "cell_type": "code",
      "metadata": {
        "id": "Ky-pEIXwHs1I"
      },
      "source": [
        "for d in data:\n",
        "  i = int(d['review/overall'])\n",
        "  j = d['review/overall'] - i\n",
        "  j *= 10\n",
        "  if j != 0.0 and j != 5.0:\n",
        "    print('true')"
      ],
      "execution_count": null,
      "outputs": []
    },
    {
      "cell_type": "code",
      "metadata": {
        "colab": {
          "base_uri": "https://localhost:8080/"
        },
        "id": "-kgPktXfl-kH",
        "outputId": "761715c6-b7ba-43c5-de51-417d0cec4e43"
      },
      "source": [
        "test = Decimal(3.6).quantize(Decimal('0'))\n",
        "test"
      ],
      "execution_count": null,
      "outputs": [
        {
          "output_type": "execute_result",
          "data": {
            "text/plain": [
              "Decimal('4')"
            ]
          },
          "metadata": {},
          "execution_count": 8
        }
      ]
    }
  ]
}